{
 "cells": [
  {
   "cell_type": "code",
   "execution_count": 1,
   "id": "cb777056-0216-431f-8bfe-79fbd8f9bcf4",
   "metadata": {},
   "outputs": [],
   "source": [
    "import pandas as pd"
   ]
  },
  {
   "cell_type": "markdown",
   "id": "241f18b3-3a1b-48f2-a389-8802358c2485",
   "metadata": {},
   "source": [
    "There are two core objects in pandas: the DataFrame and the Series. \n",
    "A DataFrame is a table. It contains an array of individual entries, each of which has a certain value. Each entry corresponds to a row (or record) and a column.\n",
    "The syntax for declaring a new one is a dictionary whose keys are the column names (Bob and Sue in this example), and whose values are a list of entries."
   ]
  },
  {
   "cell_type": "code",
   "execution_count": 3,
   "id": "35d7ff7b-6c8e-44c5-bb2a-370a01751878",
   "metadata": {},
   "outputs": [
    {
     "data": {
      "text/html": [
       "<div>\n",
       "<style scoped>\n",
       "    .dataframe tbody tr th:only-of-type {\n",
       "        vertical-align: middle;\n",
       "    }\n",
       "\n",
       "    .dataframe tbody tr th {\n",
       "        vertical-align: top;\n",
       "    }\n",
       "\n",
       "    .dataframe thead th {\n",
       "        text-align: right;\n",
       "    }\n",
       "</style>\n",
       "<table border=\"1\" class=\"dataframe\">\n",
       "  <thead>\n",
       "    <tr style=\"text-align: right;\">\n",
       "      <th></th>\n",
       "      <th>Bob</th>\n",
       "      <th>Sue</th>\n",
       "    </tr>\n",
       "  </thead>\n",
       "  <tbody>\n",
       "    <tr>\n",
       "      <th>0</th>\n",
       "      <td>I liked it.</td>\n",
       "      <td>Pretty good.</td>\n",
       "    </tr>\n",
       "    <tr>\n",
       "      <th>1</th>\n",
       "      <td>It was awful.</td>\n",
       "      <td>Bland.</td>\n",
       "    </tr>\n",
       "  </tbody>\n",
       "</table>\n",
       "</div>"
      ],
      "text/plain": [
       "             Bob           Sue\n",
       "0    I liked it.  Pretty good.\n",
       "1  It was awful.        Bland."
      ]
     },
     "execution_count": 3,
     "metadata": {},
     "output_type": "execute_result"
    }
   ],
   "source": [
    "pd.DataFrame({'Bob': ['I liked it.', 'It was awful.'], 'Sue': ['Pretty good.', 'Bland.']})"
   ]
  },
  {
   "cell_type": "code",
   "execution_count": 23,
   "id": "beed0cc3-74ec-4f92-bcfb-e09b2ead0d58",
   "metadata": {},
   "outputs": [
    {
     "data": {
      "text/html": [
       "<div>\n",
       "<style scoped>\n",
       "    .dataframe tbody tr th:only-of-type {\n",
       "        vertical-align: middle;\n",
       "    }\n",
       "\n",
       "    .dataframe tbody tr th {\n",
       "        vertical-align: top;\n",
       "    }\n",
       "\n",
       "    .dataframe thead th {\n",
       "        text-align: right;\n",
       "    }\n",
       "</style>\n",
       "<table border=\"1\" class=\"dataframe\">\n",
       "  <thead>\n",
       "    <tr style=\"text-align: right;\">\n",
       "      <th></th>\n",
       "      <th>Apples</th>\n",
       "      <th>Bananas</th>\n",
       "    </tr>\n",
       "  </thead>\n",
       "  <tbody>\n",
       "    <tr>\n",
       "      <th>0</th>\n",
       "      <td>30</td>\n",
       "      <td>21</td>\n",
       "    </tr>\n",
       "    <tr>\n",
       "      <th>1</th>\n",
       "      <td>23</td>\n",
       "      <td>34</td>\n",
       "    </tr>\n",
       "    <tr>\n",
       "      <th>2</th>\n",
       "      <td>12</td>\n",
       "      <td>23</td>\n",
       "    </tr>\n",
       "  </tbody>\n",
       "</table>\n",
       "</div>"
      ],
      "text/plain": [
       "   Apples  Bananas\n",
       "0      30       21\n",
       "1      23       34\n",
       "2      12       23"
      ]
     },
     "execution_count": 23,
     "metadata": {},
     "output_type": "execute_result"
    }
   ],
   "source": [
    "fruits = pd.DataFrame([[30, 21],[23,34],[12,23]], columns=['Apples', 'Bananas'])\n",
    "fruits"
   ]
  },
  {
   "cell_type": "code",
   "execution_count": 11,
   "id": "f8fffddf-b8b5-4998-b5c4-8cff03c4f351",
   "metadata": {},
   "outputs": [
    {
     "data": {
      "text/html": [
       "<div>\n",
       "<style scoped>\n",
       "    .dataframe tbody tr th:only-of-type {\n",
       "        vertical-align: middle;\n",
       "    }\n",
       "\n",
       "    .dataframe tbody tr th {\n",
       "        vertical-align: top;\n",
       "    }\n",
       "\n",
       "    .dataframe thead th {\n",
       "        text-align: right;\n",
       "    }\n",
       "</style>\n",
       "<table border=\"1\" class=\"dataframe\">\n",
       "  <thead>\n",
       "    <tr style=\"text-align: right;\">\n",
       "      <th></th>\n",
       "      <th>Name</th>\n",
       "      <th>Marks</th>\n",
       "      <th>Class</th>\n",
       "      <th>Roll no</th>\n",
       "    </tr>\n",
       "  </thead>\n",
       "  <tbody>\n",
       "    <tr>\n",
       "      <th>student1</th>\n",
       "      <td>Arunima</td>\n",
       "      <td>50</td>\n",
       "      <td>Btech</td>\n",
       "      <td>abcd</td>\n",
       "    </tr>\n",
       "    <tr>\n",
       "      <th>student2</th>\n",
       "      <td>Animan</td>\n",
       "      <td>49</td>\n",
       "      <td>PhD</td>\n",
       "      <td>efgh</td>\n",
       "    </tr>\n",
       "  </tbody>\n",
       "</table>\n",
       "</div>"
      ],
      "text/plain": [
       "             Name Marks  Class Roll no\n",
       "student1  Arunima    50  Btech    abcd\n",
       "student2   Animan    49    PhD    efgh"
      ]
     },
     "execution_count": 11,
     "metadata": {},
     "output_type": "execute_result"
    }
   ],
   "source": [
    "pd.DataFrame({\n",
    "    'Name': ['Arunima', 'Animan'], \n",
    "    'Marks': ['50', '49'], \n",
    "    'Class': ['Btech', 'PhD'], \n",
    "    'Roll no': ['abcd', 'efgh']},\n",
    "            index = ['student1', 'student2'])"
   ]
  },
  {
   "cell_type": "markdown",
   "id": "80e6b5f9-e1ac-4225-aee6-a52bc213fffa",
   "metadata": {},
   "source": [
    "The list of row labels used in a DataFrame is known as an Index. We can assign values to it by using an index parameter in our constructor:"
   ]
  },
  {
   "cell_type": "code",
   "execution_count": 9,
   "id": "0d1a6266-be18-453e-8605-b83996399659",
   "metadata": {},
   "outputs": [
    {
     "data": {
      "text/html": [
       "<div>\n",
       "<style scoped>\n",
       "    .dataframe tbody tr th:only-of-type {\n",
       "        vertical-align: middle;\n",
       "    }\n",
       "\n",
       "    .dataframe tbody tr th {\n",
       "        vertical-align: top;\n",
       "    }\n",
       "\n",
       "    .dataframe thead th {\n",
       "        text-align: right;\n",
       "    }\n",
       "</style>\n",
       "<table border=\"1\" class=\"dataframe\">\n",
       "  <thead>\n",
       "    <tr style=\"text-align: right;\">\n",
       "      <th></th>\n",
       "      <th>Bob</th>\n",
       "      <th>Sue</th>\n",
       "    </tr>\n",
       "  </thead>\n",
       "  <tbody>\n",
       "    <tr>\n",
       "      <th>Product A</th>\n",
       "      <td>I liked it.</td>\n",
       "      <td>Pretty good.</td>\n",
       "    </tr>\n",
       "    <tr>\n",
       "      <th>Product B</th>\n",
       "      <td>It was awful.</td>\n",
       "      <td>Bland.</td>\n",
       "    </tr>\n",
       "  </tbody>\n",
       "</table>\n",
       "</div>"
      ],
      "text/plain": [
       "                     Bob           Sue\n",
       "Product A    I liked it.  Pretty good.\n",
       "Product B  It was awful.        Bland."
      ]
     },
     "execution_count": 9,
     "metadata": {},
     "output_type": "execute_result"
    }
   ],
   "source": [
    "pd.DataFrame({'Bob': ['I liked it.', 'It was awful.'], \n",
    "              'Sue': ['Pretty good.', 'Bland.']},\n",
    "             index=['Product A', 'Product B'])"
   ]
  },
  {
   "cell_type": "markdown",
   "id": "8b17ef47-37fd-4635-9c78-8a098a6c7a42",
   "metadata": {},
   "source": [
    "A Series, by contrast, is a sequence of data values. If a DataFrame is a table, a Series is a list. And in fact you can create one with nothing more than a list:\n",
    "A Series is, in essence, a single column of a DataFrame. So you can assign row labels to the Series the same way as before, using an index parameter. However, a Series does not have a column name, it only has one overall name:\n",
    "The Series and the DataFrame are intimately related. It's helpful to think of a DataFrame as actually being just a bunch of Series \"glued together\"."
   ]
  },
  {
   "cell_type": "code",
   "execution_count": 15,
   "id": "ce5b361f-a6a1-49ad-8836-d0a08a0bfea4",
   "metadata": {},
   "outputs": [
    {
     "data": {
      "text/plain": [
       "2015 Sales    1\n",
       "2016 Sales    2\n",
       "2017 Sales    3\n",
       "shvbs         4\n",
       "jhsdvs        5\n",
       "Name: Product A, dtype: int64"
      ]
     },
     "execution_count": 15,
     "metadata": {},
     "output_type": "execute_result"
    }
   ],
   "source": [
    "pd.Series([1, 2, 3, 4, 5],  index=['2015 Sales', '2016 Sales', '2017 Sales', 'shvbs', 'jhsdvs'], name='Product A')"
   ]
  },
  {
   "cell_type": "markdown",
   "id": "b0d297be-dc7c-4320-a859-e9e79e1aa26c",
   "metadata": {},
   "source": [
    "when we are importing datasets, sometimes when index col is specified as the first column, pandas does not take it up. so to do that, we can do \n",
    "reviews = pd.read_csv(\"../input/wine-reviews/winemag-data_first150k.csv\", index_col = 0)\n",
    "\n",
    "to save this DataFrame (animals) to disk as a csv file with the name cows_and_goats.csv, \n",
    "animals.to_csv('cows_and_goats.csv')"
   ]
  },
  {
   "cell_type": "markdown",
   "id": "1cf199b9-95e7-4449-ad30-9f66b733ece3",
   "metadata": {},
   "source": [
    "### Indexing, Selecting and Assigning \n",
    "\n",
    "In Python, we can access the __property__ of an object by accessing it as an attribute. A book object, for example, might have a title property, which we can access by calling book.title. Columns in a pandas DataFrame work in much the same way.\n",
    "Hence to access the country property of reviews we can use : reviews.country\n",
    "If we have a Python dictionary, we can access its values using the indexing ([]) operator. We can do the same with columns in a DataFrame like : reviews['country'] (here the country is the key and all the values in that column are values. So, this gives us the values in the column Country or the values of a specified key) \n",
    "\n",
    "to drill down to a single specific value, we need only use the indexing operator [] once more: reviews['country'][0]\n",
    "\n",
    "\n",
    "\n",
    "\n",
    "\n",
    "\n",
    "\n",
    "\n",
    "\n"
   ]
  },
  {
   "cell_type": "markdown",
   "id": "56c9af57-9879-4e56-aff1-27c36cf01883",
   "metadata": {},
   "source": [
    "## Indexing in Pandas\n",
    "\n",
    "### Loc and iLoc \n",
    "Both loc and iloc are row-first, column-second. This is the opposite of what we do in native Python, which is column-first, row-second.\n",
    "This means that it's marginally easier to retrieve rows, and marginally harder to get retrieve columns. \n",
    "\n",
    "#### Loc \n",
    "label-based selection. In this paradigm, it's the data index value, not its position, which matters.\n",
    "\n",
    "#### iLoc \n",
    "index-based selection: selecting data based on its numerical position in the data. iloc follows this paradigm.\n",
    "\n",
    "iloc is conceptually simpler than loc because it ignores the dataset's indices. When we use iloc we treat the dataset like a big matrix (a list of lists), one that we have to index into by position. loc, by contrast, uses the information in the indices to do its work. Since your dataset usually has meaningful indices, it's usually easier to do things using loc instead\n",
    "\n",
    "the two methods use slightly different indexing schemes.\n",
    "iloc uses the Python stdlib indexing scheme, where the first element of the range is included and the last one excluded. So 0:10 will select entries 0,...,9. loc, meanwhile, indexes inclusively. So 0:10 will select entries 0,...,10\n",
    "This is particularly confusing when the DataFrame index is a simple numerical list, e.g. 0,...,1000. In this case df.iloc[0:1000] will return 1000 entries, while df.loc[0:1000] return 1001 of them! To get 1000 elements using loc, you will need to go one lower and ask for df.loc[0:999]\n",
    "\n"
   ]
  },
  {
   "cell_type": "code",
   "execution_count": null,
   "id": "e9f94a88-9aec-4212-b1a2-7a5265ecf71d",
   "metadata": {},
   "outputs": [],
   "source": [
    "reviews.iloc[0] #gives the first row with all the columns\n",
    "reviews.iloc[:, 0] #gives all the rows but only their first column [row, column]\n",
    "reviews.iloc[:3, 0] #gives the 1st, 2nd and 3rd row (row with index - 0,1 and 2) 1st column (column index 0) (:3 selects all indexes upto 3)\n",
    "reviews.iloc[1:3, 0] #gives the rows with index 1 and 2 and their 1st column (1:3 selects all indexes from 1 upto 3(including 1 and excluding 3))\n",
    "reviews.iloc[[0, 1, 2], 0] #passing a list of row indexes that we want\n",
    "reviews.iloc[-5:] # This will start counting forwards from the end of the values. gives last 5 rows and all of their columns\n"
   ]
  },
  {
   "cell_type": "code",
   "execution_count": null,
   "id": "99722c23-0748-440c-a0b9-5dc251d9baa6",
   "metadata": {},
   "outputs": [],
   "source": [
    "reviews.loc[0, 'country'] #gives the 1st row (0 index) and the column named 'Country'\n",
    "reviews.loc[:, ['taster_name', 'taster_twitter_handle', 'points']] #gives all the rows and just the 3 columns specified\n"
   ]
  },
  {
   "cell_type": "markdown",
   "id": "36b428e9-2acf-4c2a-87b4-88f739e99e88",
   "metadata": {},
   "source": [
    "### manipulating Index\n",
    "\r\n",
    "Label-based selection derives its power from the labels in the index. Critically, the index we use is not immutable. We can manipulate the index in any way we see fit\n",
    "\n"
   ]
  },
  {
   "cell_type": "code",
   "execution_count": null,
   "id": "f0c2a2aa-fa5d-4af0-a0bb-4a0e35492ba4",
   "metadata": {},
   "outputs": [],
   "source": [
    "reviews.set_index(\"title\") #sets the values in the column 'title' as index rather than numbers (numbers starting from 0 are default)"
   ]
  },
  {
   "cell_type": "markdown",
   "id": "51e17d1a-6273-47d8-bca7-606eb77d09f4",
   "metadata": {},
   "source": [
    "### Conditional Selection \n",
    "\n",
    "Pandas comes with a few built-in conditional selectors, \n",
    "\r\n",
    "The first is isin. isin is lets you select data whose value \"is in\" a list of value\n",
    "The second is isnull (and its companion notnull). These methods let you highlight values which are (or are not) empty (NaN). \n",
    "s\n"
   ]
  },
  {
   "cell_type": "code",
   "execution_count": null,
   "id": "43dceccc-fd9a-4baa-a2e7-34c6fca02a1d",
   "metadata": {},
   "outputs": [],
   "source": [
    "reviews.country == 'Italy' #returns true or false after checking if each of the country is equal to Italy\n",
    "reviews.loc[reviews.country == 'Italy'] #gives all the rows where the country name is Italy i.e. the condition in [] is true\n",
    "reviews.loc[(reviews.country == 'Italy') & (reviews.points >= 90)] #& - and, | - or. for putting 2 conditions \n",
    "\n",
    "reviews.loc[reviews.country.isin(['Italy', 'France'])] #italy and france are in a list. we can add any number of countries to this list. gives those rows where the country is france or italy\n",
    "reviews.loc[reviews.price.notnull()] #gives those rows where the price is not 0\n"
   ]
  },
  {
   "cell_type": "markdown",
   "id": "484e530b-f799-4109-a48b-a53cd7fd79f3",
   "metadata": {},
   "source": [
    "### Assigning data\n",
    "\n",
    "You can assign either a constant value:\n",
    "reviews['critic'] = 'everyone' #assigns 'everyone' to the column 'critic'\n",
    "\n",
    "Or with an iterable of values:\n",
    "reviews['index_backwards'] = range(len(reviews), 0, -1) #range(starting index value, starting index, increment/decrement value)\n",
    "\n",
    "\n",
    "\n"
   ]
  },
  {
   "cell_type": "markdown",
   "id": "8c3576dc-fa5d-49f9-b9a3-11ae27f57825",
   "metadata": {},
   "source": [
    "### \n",
    "Summary Functions and Map\n",
    "\n",
    "#### Summary functions \n",
    "restructure the data in some useful way.\n",
    "It is type-aware, meaning that its output changes based on the data type of the input.\n",
    "\n",
    "\n",
    "s"
   ]
  },
  {
   "cell_type": "code",
   "execution_count": null,
   "id": "d78efe9c-5f1f-47f8-8848-18b340e5942b",
   "metadata": {},
   "outputs": [],
   "source": [
    "reviews.points.describe() #gives mean, median, mode etc for the values in the column 'points'\n",
    "reviews.taster_name.describe() #gives count, unique, top, frequency \n",
    "reviews.points.mean()\n",
    "reviews.taster_name.unique() #returns the unique values of the column taster_name\n",
    "reviews.taster_name.value_counts() #retuens the count of each unique value in taster_name\n",
    "\n"
   ]
  },
  {
   "cell_type": "markdown",
   "id": "025089ac-53ee-4981-8e59-03a49316c896",
   "metadata": {},
   "source": [
    "#### Map function \n",
    "\n",
    " a function that takes one set of values and \"maps\" them to another set of values.\n",
    "There are two mapping methods that you will use often.\r\n",
    "\r\n",
    "map() is the first, and slightly simpler one.\r\n",
    "apply() is the equivalent method if we want to transform a whole DataFrame by calling a custom method on each row.If we had called reviews.apply() with axis='index', then instead of passing a function to transform each row, we would need to give a function to transform each column.\n",
    "\n",
    "Note that map() and apply() return new, transformed Series and DataFrames, respectively. They don't modify the original data they're called on. If we look at the first row of reviews, we can see that it still has its original points value.\n",
    "\n",
    "\n",
    "\n"
   ]
  },
  {
   "cell_type": "code",
   "execution_count": null,
   "id": "939a79c0-ca7a-4c6a-96d1-cd6847644e79",
   "metadata": {},
   "outputs": [],
   "source": [
    "review_points_mean = reviews.points.mean()\n",
    "reviews.points.map(lambda p: p - review_points_mean) # assumes p to be an individual value of the column 'points'. maps (point - mean) value to that point value. -ve value shows that its points are lesser than the avg points and +ve value shows that point is higher than avg"
   ]
  },
  {
   "cell_type": "code",
   "execution_count": null,
   "id": "7285167d-42ae-434e-81ed-224282e757f6",
   "metadata": {},
   "outputs": [],
   "source": [
    "def remean_points(row):\n",
    "    row.points = row.points - review_points_mean\n",
    "    return row\n",
    "\n",
    "reviews.apply(remean_points, axis='columns') #with .apply() we usually always use self defined functions"
   ]
  },
  {
   "cell_type": "code",
   "execution_count": null,
   "id": "4ddf07b5-190a-40c8-bd55-ef5a33d9dea2",
   "metadata": {},
   "outputs": [],
   "source": [
    "review_points_mean = reviews.points.mean()\n",
    "reviews.points - review_points_mean \n",
    "#In this code we are performing an operation between a lot of values on the left-hand side (everything in the Series) and a single value on the right-hand side (the mean value). Pandas looks at this expression and figures out that we must mean to subtract that mean value from every value in the dataset."
   ]
  },
  {
   "cell_type": "code",
   "execution_count": null,
   "id": "a64668ce-5d51-4ef3-9d79-d9cbc02de4db",
   "metadata": {},
   "outputs": [],
   "source": [
    "centered_price = reviews.price - reviews.price.mean() #creates a variable centered_price which has price - mean_price of each row"
   ]
  },
  {
   "cell_type": "code",
   "execution_count": null,
   "id": "dc7d0717-03ff-48e1-b0ed-7d7dd30338fd",
   "metadata": {},
   "outputs": [],
   "source": [
    "reviews.country + \" - \" + reviews.region_1 #used for concatenation "
   ]
  },
  {
   "cell_type": "code",
   "execution_count": null,
   "id": "fd5f459c-dac5-4b6d-a54f-5dac716f5ce8",
   "metadata": {},
   "outputs": [],
   "source": [
    "bargain_idx = (reviews.points/reviews.price).idxmax() #eturns the index of the maximum value in a pandas Series or DataFrame.\n",
    "bargain_wine = reviews.loc[bargain_idx, 'title'] "
   ]
  },
  {
   "cell_type": "code",
   "execution_count": null,
   "id": "9fa9cac6-6a20-4877-9008-9194bf8a6746",
   "metadata": {},
   "outputs": [],
   "source": [
    "n_trop = reviews.description.map(lambda desc: \"tropical\" in desc).sum() #desc refers to an individual value in the column 'description'\n",
    "n_fruity = reviews.description.map(lambda desc: \"fruity\" in desc).sum()\n",
    "descriptor_counts = pd.Series([n_trop, n_fruity], index=['tropical', 'fruity'])"
   ]
  },
  {
   "cell_type": "code",
   "execution_count": null,
   "id": "397bb3a9-40c9-4cec-8412-f7a44ae9f7cc",
   "metadata": {},
   "outputs": [],
   "source": [
    "def stars(row):\n",
    "    if row.country == 'Canada':\n",
    "        return 3\n",
    "    elif row.points >= 95:\n",
    "        return 3\n",
    "    elif row.points >= 85:\n",
    "        return 2\n",
    "    else:\n",
    "        return 1\n",
    "\n",
    "star_ratings = reviews.apply(stars, axis='columns')"
   ]
  },
  {
   "cell_type": "markdown",
   "id": "9b8d65a8-749a-4dae-a502-118ebbf3a358",
   "metadata": {},
   "source": [
    "### Grouping and sorting \n",
    "\n",
    "You can think of each group we generate as being a slice of our DataFrame containing only data with values that match. This DataFrame is accessible to us directly using the apply() method, and we can then manipulate the data in any way we see fit\n",
    "\n",
    "Another groupby() method worth mentioning is agg(), which lets you run a bunch of different functions on your DataFrame simultaneously.\n",
    "\n",
    "### Multi indexing \n",
    "\n",
    "A multi-index differs from a regular index in that it has multiple levels\n",
    "\n",
    "### sorting \n",
    "\n",
    "sort_values() defaults to an ascending sort, where the lowest values go first. However, most of the time we want a descending sort, where the higher numbers go first\n"
   ]
  },
  {
   "cell_type": "code",
   "execution_count": null,
   "id": "d10d4a90-b818-4489-bba8-6bceff839b7f",
   "metadata": {},
   "outputs": [],
   "source": [
    "reviews.groupby('points').points.count() "
   ]
  },
  {
   "cell_type": "markdown",
   "id": "1060cf0d-1646-4672-8fa2-62e99808f49d",
   "metadata": {},
   "source": [
    "explaination - \n",
    "groupby() created a group of reviews which allotted the same point values to the given wines. Then, for each of these groups, we grabbed the points() column and counted how many times it appeared\n",
    "\n",
    "\n",
    "value_counts() is just a shortcut to this groupby() operation.\n",
    "\n",
    "\n",
    "count() - counts only non null values and does not count NaN nor null values. therefore to count NaN values, we have to use sum()"
   ]
  },
  {
   "cell_type": "code",
   "execution_count": null,
   "id": "ef222f33-4123-41a9-8a57-206d6c7425a7",
   "metadata": {},
   "outputs": [],
   "source": [
    "reviews.groupby('points').price.min() #to get the cheapest wine in each point value category"
   ]
  },
  {
   "cell_type": "code",
   "execution_count": null,
   "id": "9a88fa82-6ba6-4c74-989c-5c06b961573f",
   "metadata": {},
   "outputs": [],
   "source": [
    "reviews.groupby('winery').apply(lambda df: df.title.iloc[0]) #selecting the name of the first wine reviewed from each winery in the dataset"
   ]
  },
  {
   "cell_type": "code",
   "execution_count": null,
   "id": "8073e014-2c05-428b-ada1-5901af7f5abe",
   "metadata": {},
   "outputs": [],
   "source": [
    "reviews.groupby(['country', 'province']).apply(lambda df: df.loc[df.points.idxmax()]) "
   ]
  },
  {
   "cell_type": "code",
   "execution_count": null,
   "id": "d467fdbb-0a8f-43e4-8672-1fa7f621efe0",
   "metadata": {},
   "outputs": [],
   "source": [
    "reviews.groupby(['country']).price.agg([len, min, max])"
   ]
  },
  {
   "cell_type": "code",
   "execution_count": null,
   "id": "81500044-4409-43a8-bc84-18472f8c0d54",
   "metadata": {},
   "outputs": [],
   "source": [
    "countries_reviewed.sort_values(by='len')"
   ]
  },
  {
   "cell_type": "code",
   "execution_count": null,
   "id": "cfd484bc-3cae-4751-8613-be9be8b4a50f",
   "metadata": {},
   "outputs": [],
   "source": [
    "countries_reviewed.sort_values(by='len', ascending=False)"
   ]
  },
  {
   "cell_type": "code",
   "execution_count": null,
   "id": "ee9bc57f-4b45-4b42-91cc-0806b4cbcb0b",
   "metadata": {},
   "outputs": [],
   "source": [
    "countries_reviewed.sort_index()"
   ]
  },
  {
   "cell_type": "code",
   "execution_count": null,
   "id": "b0936ae1-1a08-4505-9819-e9db1dec80f2",
   "metadata": {},
   "outputs": [],
   "source": [
    "countries_reviewed.sort_values(by=['country', 'len'])"
   ]
  },
  {
   "cell_type": "code",
   "execution_count": null,
   "id": "4131503d-5e72-4b06-ad13-63aeb2327b4d",
   "metadata": {},
   "outputs": [],
   "source": [
    "best_rating_per_price = reviews.groupby('price')['points'].max().sort_index()\n",
    "#a Series whose index is wine prices and whose values is the maximum number of points a wine costing that much was given in a review. Sort the values by price, ascending (so that 4.0 dollars is at the top and 3300.0 dollars is at the bottom)."
   ]
  },
  {
   "cell_type": "markdown",
   "id": "38e35db7-518a-414a-b175-8fe301f1242a",
   "metadata": {},
   "source": [
    "\n",
    "\n",
    "### Data types and missing values\n",
    "\n",
    "The data type for a column in a DataFrame or a Series is known as the dtype\n",
    "\n",
    "It's possible to convert a column of one type into another wherever such a conversion makes sense by using the astype() function\n",
    "\n",
    "To select NaN entries you can use pd.isnull() (or its companion pd.notnull())\n",
    "\n",
    "Replacing missing values is a common operation. Pandas provides a really handy method for this problem: fillna(). fillna() provides a few different strategies for mitigating such data.\n",
    "\n",
    "\n"
   ]
  },
  {
   "cell_type": "code",
   "execution_count": null,
   "id": "c41e322d-322d-4cd6-ba3a-07c7ff4d7f67",
   "metadata": {},
   "outputs": [],
   "source": [
    "reviews.price.dtype #get the dtype of the price column in the reviews DataFrame:\n",
    "reviews.dtypes # returns the dtype of every column in the DataFrame"
   ]
  },
  {
   "cell_type": "code",
   "execution_count": null,
   "id": "7c45f12f-d0d4-45f7-ae6c-2ab72fc674fc",
   "metadata": {},
   "outputs": [],
   "source": [
    "reviews.points.astype('float64')"
   ]
  },
  {
   "cell_type": "code",
   "execution_count": null,
   "id": "f6d882f7-c0e5-4d7c-aaad-172c9f4593ae",
   "metadata": {},
   "outputs": [],
   "source": [
    "reviews[pd.isnull(reviews.country)] #returns rows where the country column is null"
   ]
  },
  {
   "cell_type": "code",
   "execution_count": null,
   "id": "c55759e6-584b-4fb6-99ca-c531e2607b24",
   "metadata": {},
   "outputs": [],
   "source": [
    "reviews.region_2.fillna(\"Unknown\") #replace each NaN with an \"Unknown\""
   ]
  },
  {
   "cell_type": "code",
   "execution_count": null,
   "id": "7abff9a4-2293-4c31-83a7-6b8104ba86d1",
   "metadata": {},
   "outputs": [],
   "source": [
    "reviews.taster_twitter_handle.replace(\"@kerinokeefe\", \"@kerino\") #used to replace the 1st term (@kerinokeefe) by the 2nd term (@kerino)"
   ]
  },
  {
   "cell_type": "code",
   "execution_count": null,
   "id": "4843293a-f56b-4810-a070-3927498a3e16",
   "metadata": {},
   "outputs": [],
   "source": [
    "missing_price_reviews = reviews[reviews.price.isnull()]\n",
    "n_missing_prices = len(missing_price_reviews)\n",
    "# Cute alternative solution: if we sum a boolean series, True is treated as 1 and False as 0\n",
    "n_missing_prices = reviews.price.isnull().sum()\n",
    "# or equivalently:\n",
    "n_missing_prices = pd.isnull(reviews.price).sum()"
   ]
  },
  {
   "cell_type": "markdown",
   "id": "9325a74b-fdf7-48c8-8825-aadda2d7ef32",
   "metadata": {},
   "source": [
    "\n",
    "\n",
    "### renaming and combining \n",
    "\n",
    "#### renaming \n",
    "rename(), which lets you change index names and/or column names\n",
    "rename() lets you rename index or column values by specifying a index or column keyword parameter, respectively. It supports a variety of input formats, but usually a Python dictionary is the most convenient\n",
    "\n",
    "to rename index we also have set_index\n",
    "\n",
    "Both the row index and the column index can have their own name attribute. The complimentary rename_axis() method may be used to change these names.\n"
   ]
  },
  {
   "cell_type": "code",
   "execution_count": null,
   "id": "e85831cb-173f-4d51-805c-4b1dd369ae4f",
   "metadata": {},
   "outputs": [],
   "source": [
    "reviews.rename(columns={'points': 'score'}) #renames the points column to score\n",
    "reviews.rename(index={0: 'firstEntry', 1: 'secondEntry'}) #renames the 0th index to firstEntry and the 1st index to secondEntry"
   ]
  },
  {
   "cell_type": "code",
   "execution_count": null,
   "id": "b9d6708a-b5ae-478d-8380-31c096fcf99a",
   "metadata": {},
   "outputs": [],
   "source": [
    "reviews.rename_axis(\"wines\", axis='rows').rename_axis(\"fields\", axis='columns') #renames the row axis to wines and the column axis to fields"
   ]
  },
  {
   "cell_type": "markdown",
   "id": "73a9c7dc-e3a9-4d7b-b3b1-bfd76b4484b8",
   "metadata": {},
   "source": [
    "#### Combining \n",
    "\n",
    "concat(). Given a list of elements, this function will smush those elements together along an axis\n",
    "\n",
    "join() lets you combine different DataFrame objects which have an index in common\n",
    "The lsuffix and rsuffix parameters are necessary here because the data has the same column names in both British and Canadian datasets. If this wasn't true (because, say, we'd renamed them beforehand) we wouldn't need them."
   ]
  },
  {
   "cell_type": "code",
   "execution_count": null,
   "id": "7f194ba8-255d-4a67-a634-31b77779f7a4",
   "metadata": {},
   "outputs": [],
   "source": [
    "pd.concat([canadian_youtube, british_youtube])\n"
   ]
  },
  {
   "cell_type": "code",
   "execution_count": null,
   "id": "1d73531e-5af5-427e-b377-56ace364002a",
   "metadata": {},
   "outputs": [],
   "source": [
    "left = canadian_youtube.set_index(['title', 'trending_date'])\n",
    "right = british_youtube.set_index(['title', 'trending_date'])\n",
    "\n",
    "left.join(right, lsuffix='_CAN', rsuffix='_UK')"
   ]
  },
  {
   "cell_type": "code",
   "execution_count": null,
   "id": "2817dd16-29cc-46ed-b933-5f4b26700cda",
   "metadata": {},
   "outputs": [],
   "source": [
    "powerlifting_combined = powerlifting_meets.set_index(\"MeetID\").join(powerlifting_competitors.set_index(\"MeetID\"))"
   ]
  },
  {
   "cell_type": "code",
   "execution_count": null,
   "id": "07ea64ca-5995-4ef7-87c5-cc9f722e4bf5",
   "metadata": {},
   "outputs": [],
   "source": []
  },
  {
   "cell_type": "code",
   "execution_count": null,
   "id": "4390dd18-3171-45fc-9410-449e2a9ef041",
   "metadata": {},
   "outputs": [],
   "source": []
  },
  {
   "cell_type": "code",
   "execution_count": null,
   "id": "7964da43-f407-4c00-add6-a0050de54592",
   "metadata": {},
   "outputs": [],
   "source": []
  },
  {
   "cell_type": "code",
   "execution_count": null,
   "id": "3657293a-3a82-4257-bc80-544cace13c62",
   "metadata": {},
   "outputs": [],
   "source": []
  },
  {
   "cell_type": "code",
   "execution_count": null,
   "id": "ed42f748-db75-40c3-8d92-198978308f88",
   "metadata": {},
   "outputs": [],
   "source": []
  },
  {
   "cell_type": "code",
   "execution_count": null,
   "id": "477a5b72-d283-4065-a471-28fc5e94a18e",
   "metadata": {},
   "outputs": [],
   "source": []
  },
  {
   "cell_type": "code",
   "execution_count": null,
   "id": "1daf4080-e5cc-48bf-9db3-06fa8e19e7bb",
   "metadata": {},
   "outputs": [],
   "source": []
  },
  {
   "cell_type": "code",
   "execution_count": null,
   "id": "0f6237a8-12cd-463c-a684-be4beb49158f",
   "metadata": {},
   "outputs": [],
   "source": []
  }
 ],
 "metadata": {
  "kernelspec": {
   "display_name": "Python 3 (ipykernel)",
   "language": "python",
   "name": "python3"
  },
  "language_info": {
   "codemirror_mode": {
    "name": "ipython",
    "version": 3
   },
   "file_extension": ".py",
   "mimetype": "text/x-python",
   "name": "python",
   "nbconvert_exporter": "python",
   "pygments_lexer": "ipython3",
   "version": "3.11.7"
  }
 },
 "nbformat": 4,
 "nbformat_minor": 5
}
